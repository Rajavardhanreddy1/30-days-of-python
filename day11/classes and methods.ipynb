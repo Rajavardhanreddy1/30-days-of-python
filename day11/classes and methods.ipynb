{
 "cells": [
  {
   "cell_type": "code",
   "execution_count": 3,
   "id": "bbecedbe-26d6-4ea0-86c1-2aebcd181aab",
   "metadata": {},
   "outputs": [
    {
     "name": "stdout",
     "output_type": "stream",
     "text": [
      "the name of the first parrot wasraja and age was 22\n",
      "the name of the first parrot wassudha and age was 23\n"
     ]
    }
   ],
   "source": [
    "class Parrot:\n",
    "    name=''\n",
    "    age=0\n",
    "parrot1=Parrot()\n",
    "parrot1.name='raja'\n",
    "parrot1.age=22\n",
    "parrot2=Parrot()\n",
    "parrot2.name='sudha'\n",
    "parrot2.age=23\n",
    "print(f\"the name of the first parrot was{parrot1.name} and age was {parrot1.age}\")\n",
    "print(f\"the name of the first parrot was{parrot2.name} and age was {parrot2.age}\")\n"
   ]
  },
  {
   "cell_type": "code",
   "execution_count": 55,
   "id": "51e05554-8a66-443a-8818-9e647ccc4851",
   "metadata": {},
   "outputs": [
    {
     "name": "stdout",
     "output_type": "stream",
     "text": [
      "the are of triange was 105.06\n"
     ]
    }
   ],
   "source": [
    "class Area:\n",
    "    def __init__(self,length,breadth):\n",
    "        self.length=length\n",
    "        self.breadth=breadth\n",
    "    def area_of_square(self):\n",
    "        print(\"the are of triange was\",self.length*self.breadth)\n",
    "area1=Area(10.2,10.3)\n",
    "area1.area_of_square()\n",
    "\n"
   ]
  },
  {
   "cell_type": "code",
   "execution_count": 34,
   "id": "7334c496-6cce-47ad-8dcf-ff79c3bfb726",
   "metadata": {},
   "outputs": [],
   "source": [
    "class Dog():\n",
    "    def __init__(self,breed,name):\n",
    "        self.breed=breed\n",
    "        self.name=name\n",
    "    def bark(self,number):\n",
    "        print(f'bhoo  {self.name} and {number}')\n",
    "        \n",
    "dog1=Dog('lab','dog')"
   ]
  },
  {
   "cell_type": "code",
   "execution_count": 31,
   "id": "7e52dfc3-e1b2-4472-8bea-778b2a216289",
   "metadata": {},
   "outputs": [
    {
     "data": {
      "text/plain": [
       "<__main__.Dog at 0x20ca9980710>"
      ]
     },
     "execution_count": 31,
     "metadata": {},
     "output_type": "execute_result"
    }
   ],
   "source": [
    "dog1"
   ]
  },
  {
   "cell_type": "code",
   "execution_count": 32,
   "id": "9e6391b7-bf58-406d-9032-eec631b01dfa",
   "metadata": {},
   "outputs": [
    {
     "data": {
      "text/plain": [
       "'lab'"
      ]
     },
     "execution_count": 32,
     "metadata": {},
     "output_type": "execute_result"
    }
   ],
   "source": [
    "dog1.breed"
   ]
  },
  {
   "cell_type": "code",
   "execution_count": 36,
   "id": "0c4b3048-1aa4-42cc-8198-b80109ccf823",
   "metadata": {},
   "outputs": [
    {
     "name": "stdout",
     "output_type": "stream",
     "text": [
      "bhoo  dog and 1\n"
     ]
    }
   ],
   "source": [
    "dog1.bark(1)"
   ]
  },
  {
   "cell_type": "code",
   "execution_count": 68,
   "id": "e77ef5cc-f87b-4614-857d-5ca449bd6a32",
   "metadata": {},
   "outputs": [],
   "source": [
    "class Circle():\n",
    "    pi=3.14\n",
    "    def __init__(self,radius=1):\n",
    "        self.radius=radius\n",
    "        self.area=radius*radius*Circle.pi\n",
    "    def get_circumference(self,ra):\n",
    "        return self.radius*Circle.pi*2*ra"
   ]
  },
  {
   "cell_type": "code",
   "execution_count": 69,
   "id": "962e6cde-858c-4b8c-8829-8523176c87b4",
   "metadata": {},
   "outputs": [],
   "source": [
    "circle1=Circle()"
   ]
  },
  {
   "cell_type": "code",
   "execution_count": 70,
   "id": "36eb8971-dada-4e04-b930-12385c039314",
   "metadata": {},
   "outputs": [
    {
     "data": {
      "text/plain": [
       "62.800000000000004"
      ]
     },
     "execution_count": 70,
     "metadata": {},
     "output_type": "execute_result"
    }
   ],
   "source": [
    "circle1.get_circumference(10)"
   ]
  },
  {
   "cell_type": "code",
   "execution_count": 71,
   "id": "a846acd6-6eb2-410c-abe6-a04ab10cb1fe",
   "metadata": {},
   "outputs": [],
   "source": [
    "class Animal:\n",
    "    def __init__(self):\n",
    "        print(\"iam animal\")\n",
    "    def eating(self):\n",
    "        print(\"it is earing\")\n",
    "    def sleeping(self):\n",
    "        print(\"it is slepping\")\n",
    "        "
   ]
  },
  {
   "cell_type": "code",
   "execution_count": 93,
   "id": "b60e3845-67a8-4780-8186-0022f61944ef",
   "metadata": {},
   "outputs": [],
   "source": [
    "class Dog(Animal):\n",
    "    \n",
    "    def __init__(self):\n",
    "        Animal.__init__(self)\n",
    "        \n",
    "        \n",
    "        print(\"it is dog\")\n",
    "    def eating(self):\n",
    "        super().eating()\n",
    "        print(\"it is eating biscuts\")\n",
    "    def ebark(self):\n",
    "        print(\"it is bating\")\n",
    "    "
   ]
  },
  {
   "cell_type": "code",
   "execution_count": 94,
   "id": "f998ba49-33e0-4849-bf25-d1b5182a8759",
   "metadata": {},
   "outputs": [
    {
     "name": "stdout",
     "output_type": "stream",
     "text": [
      "iam animal\n",
      "it is dog\n"
     ]
    }
   ],
   "source": [
    "dog1=Dog()"
   ]
  },
  {
   "cell_type": "code",
   "execution_count": 91,
   "id": "8a6a2509-a1c5-4ec7-bd30-1b5201fdd08e",
   "metadata": {},
   "outputs": [
    {
     "data": {
      "text/plain": [
       "<bound method Dog.ebark of <__main__.Dog object at 0x0000020CA993CBD0>>"
      ]
     },
     "execution_count": 91,
     "metadata": {},
     "output_type": "execute_result"
    }
   ],
   "source": [
    "dog1."
   ]
  },
  {
   "cell_type": "code",
   "execution_count": 95,
   "id": "a9da8b19-bfb2-419b-bc66-49f6f9fa2a64",
   "metadata": {},
   "outputs": [
    {
     "name": "stdout",
     "output_type": "stream",
     "text": [
      "it is earing\n",
      "it is eating biscuts\n"
     ]
    }
   ],
   "source": [
    "dog1.eating()"
   ]
  },
  {
   "cell_type": "code",
   "execution_count": 1,
   "id": "43f3d284-f1cf-46c1-94a2-3651e29a870b",
   "metadata": {},
   "outputs": [
    {
     "name": "stdout",
     "output_type": "stream",
     "text": [
      "Circle\n",
      "I am a two-dimensional shape.\n",
      "Squares have each angle equal to 90 degrees.\n",
      "153.93804002589985\n"
     ]
    }
   ],
   "source": [
    "from math import pi\n",
    "\n",
    "class Shape:\n",
    "    def __init__(self, name):\n",
    "        self.name = name\n",
    "\n",
    "    def area(self):\n",
    "        pass\n",
    "\n",
    "    def fact(self):\n",
    "        return \"I am a two-dimensional shape.\"\n",
    "\n",
    "    def __str__(self):\n",
    "        return self.name\n",
    "\n",
    "class Square(Shape):\n",
    "    def __init__(self, length):\n",
    "        super().__init__(\"Square\")\n",
    "        self.length = length\n",
    "\n",
    "    def area(self):\n",
    "        return self.length**2\n",
    "\n",
    "    def fact(self):\n",
    "        return \"Squares have each angle equal to 90 degrees.\"\n",
    "\n",
    "class Circle(Shape):\n",
    "    def __init__(self, radius):\n",
    "        super().__init__(\"Circle\")\n",
    "        self.radius = radius\n",
    "\n",
    "    def area(self):\n",
    "        return pi*self.radius**2\n",
    "\n",
    "a = Square(4)\n",
    "b = Circle(7)\n",
    "print(b)\n",
    "print(b.fact())\n",
    "print(a.fact())\n",
    "print(b.area())\n"
   ]
  },
  {
   "cell_type": "code",
   "execution_count": 4,
   "id": "8d7e88df-3304-4f9e-86f9-8b3d2f7e8eab",
   "metadata": {},
   "outputs": [
    {
     "name": "stdout",
     "output_type": "stream",
     "text": [
      "dog name is koka and age is 7\n",
      "bhoww\n",
      "cat name is pelli and age is 2\n",
      "meow\n"
     ]
    }
   ],
   "source": [
    "class Dog:\n",
    "    def __init__(self,name,age):\n",
    "        self.name=name\n",
    "        self.age=age\n",
    "    def info(self):\n",
    "        print(f\"dog name is {self.name} and age is {self.age}\")\n",
    "    def make_sound(self):\n",
    "        print(\"bhoww\")\n",
    "class Cat:\n",
    "    def __init__(self,name,age):\n",
    "        self.name=name\n",
    "        self.age=age\n",
    "    def info(self):\n",
    "        print(f\"cat name is {self.name} and age is {self.age}\")\n",
    "    def make_sound(self):\n",
    "        print(\"meow\")\n",
    "dog1=Dog('koka',7)\n",
    "cat1=Cat('pelli',2)\n",
    "for animal in (dog1,cat1):\n",
    "    animal.info()\n",
    "    animal.make_sound()"
   ]
  },
  {
   "cell_type": "code",
   "execution_count": 20,
   "id": "fc451944-36c2-4a1f-b114-063e870b3511",
   "metadata": {},
   "outputs": [],
   "source": [
    "class Dog:\n",
    "    def __init__(self,name):\n",
    "        self.name=name\n",
    "        \n",
    "    def speak(self):\n",
    "         return self.name+'says woof!'\n"
   ]
  },
  {
   "cell_type": "code",
   "execution_count": 19,
   "id": "e8d2500f-ef15-4764-be9d-71541ec963bc",
   "metadata": {},
   "outputs": [],
   "source": [
    "class Cat:\n",
    "    def __init__(self,name):\n",
    "        self.name=name\n",
    "        \n",
    "    def speak(self):\n",
    "        return self.name+'says meow'"
   ]
  },
  {
   "cell_type": "code",
   "execution_count": 21,
   "id": "5430aac8-f5ef-4ae1-be07-1a0208f9cfc7",
   "metadata": {},
   "outputs": [],
   "source": [
    "dog1=Dog(\"dog1\")\n",
    "cat1=Cat(\"cat1\")"
   ]
  },
  {
   "cell_type": "code",
   "execution_count": 22,
   "id": "a1fdef44-7782-4485-af80-9ff46e7fcf37",
   "metadata": {},
   "outputs": [
    {
     "name": "stdout",
     "output_type": "stream",
     "text": [
      "dog1says woof!\n"
     ]
    }
   ],
   "source": [
    "print(dog1.speak())"
   ]
  },
  {
   "cell_type": "code",
   "execution_count": 23,
   "id": "d3617627-dd58-40e1-bb51-edfe4b79c263",
   "metadata": {},
   "outputs": [
    {
     "name": "stdout",
     "output_type": "stream",
     "text": [
      "cat1says meow\n"
     ]
    }
   ],
   "source": [
    "print(cat1.speak())"
   ]
  },
  {
   "cell_type": "code",
   "execution_count": 26,
   "id": "eefb25c4-89ee-45df-8117-877fcdc75f43",
   "metadata": {},
   "outputs": [
    {
     "name": "stdout",
     "output_type": "stream",
     "text": [
      "dog1says woof!\n",
      "cat1says meow\n"
     ]
    }
   ],
   "source": [
    "for animal in (dog1,cat1):\n",
    "     print(animal.speak())"
   ]
  },
  {
   "cell_type": "code",
   "execution_count": 29,
   "id": "21e6b8c3-1b14-4a16-8594-9a0e0f30441b",
   "metadata": {},
   "outputs": [],
   "source": [
    "def animal(pet):\n",
    "    return pet.speak()"
   ]
  },
  {
   "cell_type": "code",
   "execution_count": 30,
   "id": "7f9efe3a-e611-4711-908c-28edd0e8c350",
   "metadata": {},
   "outputs": [
    {
     "data": {
      "text/plain": [
       "'dog1says woof!'"
      ]
     },
     "execution_count": 30,
     "metadata": {},
     "output_type": "execute_result"
    }
   ],
   "source": [
    "animal(dog1)"
   ]
  },
  {
   "cell_type": "code",
   "execution_count": 31,
   "id": "cd7ceff3-6ad6-4562-ac8e-78b75fee781d",
   "metadata": {},
   "outputs": [],
   "source": [
    "class Animal:\n",
    "    def __init__(self,name):\n",
    "        self.name=name\n",
    "    def speak(self):\n",
    "        raise NotImplementedError(\"Sub class must impement this abstract methof\")\n",
    "        \n"
   ]
  },
  {
   "cell_type": "code",
   "execution_count": 33,
   "id": "e015244d-348d-4564-8a74-9ac1b3e364ed",
   "metadata": {},
   "outputs": [],
   "source": [
    "animal1=Animal(\"dog\")"
   ]
  },
  {
   "cell_type": "code",
   "execution_count": 36,
   "id": "01fcc326-dc0e-4e2d-adfb-c85d7d8806a3",
   "metadata": {},
   "outputs": [],
   "source": [
    "class Dog(Animal):\n",
    "    def speak(self):\n",
    "        return self.name+'woof'"
   ]
  },
  {
   "cell_type": "code",
   "execution_count": 37,
   "id": "99c52430-cbc2-4671-bd49-35586bdfb19c",
   "metadata": {},
   "outputs": [],
   "source": [
    "class Cat(Animal):\n",
    "    def speak(self):\n",
    "        return self.name+'meow'"
   ]
  },
  {
   "cell_type": "code",
   "execution_count": 39,
   "id": "f5340da6-e217-417c-9389-bc2298b5b9d8",
   "metadata": {},
   "outputs": [],
   "source": [
    "dog1=Dog(\"dog1\")"
   ]
  },
  {
   "cell_type": "code",
   "execution_count": 40,
   "id": "f76e7f87-79d0-445e-aa8b-84a8fd0ab245",
   "metadata": {},
   "outputs": [
    {
     "data": {
      "text/plain": [
       "'dog1woof'"
      ]
     },
     "execution_count": 40,
     "metadata": {},
     "output_type": "execute_result"
    }
   ],
   "source": [
    "dog1.speak()"
   ]
  },
  {
   "cell_type": "code",
   "execution_count": 42,
   "id": "acfe8cfb-324c-4837-b091-d70ea63df388",
   "metadata": {},
   "outputs": [
    {
     "data": {
      "text/plain": [
       "3"
      ]
     },
     "execution_count": 42,
     "metadata": {},
     "output_type": "execute_result"
    }
   ],
   "source": [
    "mylist=[1,2,3]\n",
    "len(mylist)"
   ]
  },
  {
   "cell_type": "code",
   "execution_count": 72,
   "id": "09da4747-c522-4783-8135-431b037e7dd1",
   "metadata": {},
   "outputs": [],
   "source": [
    "class Book:\n",
    "    def __init__(self,title,author,pages):\n",
    "        self.title=title\n",
    "        self.author=author\n",
    "        self.pages=pages\n",
    "    def __str__(self):\n",
    "        return self.title+self.author\n",
    "    def __len__(self):\n",
    "        return self.pages\n",
    "    def __del__(self):\n",
    "        print(\"book object hasb enn deleted\")\n",
    "    "
   ]
  },
  {
   "cell_type": "code",
   "execution_count": 73,
   "id": "6923ef0d-fae5-44c8-be57-ffa6d9daaabb",
   "metadata": {},
   "outputs": [],
   "source": [
    "b=Book('python','raja',200)"
   ]
  },
  {
   "cell_type": "code",
   "execution_count": 74,
   "id": "cf30f8b4-2bed-4cd5-a90e-8b407e500724",
   "metadata": {},
   "outputs": [
    {
     "name": "stdout",
     "output_type": "stream",
     "text": [
      "pythonraja\n"
     ]
    }
   ],
   "source": [
    "print(b)"
   ]
  },
  {
   "cell_type": "code",
   "execution_count": 75,
   "id": "08da13bc-71d9-4d4e-9ac1-c42e26acc204",
   "metadata": {},
   "outputs": [
    {
     "data": {
      "text/plain": [
       "200"
      ]
     },
     "execution_count": 75,
     "metadata": {},
     "output_type": "execute_result"
    }
   ],
   "source": [
    "len(b)"
   ]
  },
  {
   "cell_type": "code",
   "execution_count": 76,
   "id": "d0793a04-9bad-45b9-b3b9-1a51f4970c9a",
   "metadata": {},
   "outputs": [
    {
     "name": "stdout",
     "output_type": "stream",
     "text": [
      "book object hasb enn deleted\n"
     ]
    }
   ],
   "source": [
    "del(b)"
   ]
  },
  {
   "cell_type": "code",
   "execution_count": 77,
   "id": "10538cea-d479-4170-9049-a6c7a8ef8051",
   "metadata": {},
   "outputs": [
    {
     "ename": "NameError",
     "evalue": "name 'b' is not defined",
     "output_type": "error",
     "traceback": [
      "\u001b[1;31m---------------------------------------------------------------------------\u001b[0m",
      "\u001b[1;31mNameError\u001b[0m                                 Traceback (most recent call last)",
      "Cell \u001b[1;32mIn[77], line 1\u001b[0m\n\u001b[1;32m----> 1\u001b[0m \u001b[38;5;28mprint\u001b[39m(b)\n",
      "\u001b[1;31mNameError\u001b[0m: name 'b' is not defined"
     ]
    }
   ],
   "source": [
    "print(b)"
   ]
  },
  {
   "cell_type": "code",
   "execution_count": 78,
   "id": "fc2bb832-e137-4be6-8e78-9681b3eb35e8",
   "metadata": {},
   "outputs": [
    {
     "ename": "NameError",
     "evalue": "name 'b' is not defined",
     "output_type": "error",
     "traceback": [
      "\u001b[1;31m---------------------------------------------------------------------------\u001b[0m",
      "\u001b[1;31mNameError\u001b[0m                                 Traceback (most recent call last)",
      "Cell \u001b[1;32mIn[78], line 1\u001b[0m\n\u001b[1;32m----> 1\u001b[0m \u001b[38;5;28mlen\u001b[39m(b)\n",
      "\u001b[1;31mNameError\u001b[0m: name 'b' is not defined"
     ]
    }
   ],
   "source": [
    "len(b)"
   ]
  },
  {
   "cell_type": "code",
   "execution_count": 82,
   "id": "3ab45797-ab08-47c7-a734-60f4194d8812",
   "metadata": {},
   "outputs": [],
   "source": [
    "a='raja   '\n",
    "b=a.strip()"
   ]
  },
  {
   "cell_type": "code",
   "execution_count": 83,
   "id": "14ecf4c7-305f-4442-bf54-56ac268edbea",
   "metadata": {},
   "outputs": [
    {
     "data": {
      "text/plain": [
       "'raja'"
      ]
     },
     "execution_count": 83,
     "metadata": {},
     "output_type": "execute_result"
    }
   ],
   "source": [
    "b"
   ]
  },
  {
   "cell_type": "code",
   "execution_count": 85,
   "id": "da0f9b2e-ba5e-4c4b-bee3-5a7a8b44d564",
   "metadata": {},
   "outputs": [
    {
     "data": {
      "text/plain": [
       "False"
      ]
     },
     "execution_count": 85,
     "metadata": {},
     "output_type": "execute_result"
    }
   ],
   "source": [
    "n=26\n",
    "n in range(6,21)"
   ]
  },
  {
   "cell_type": "code",
   "execution_count": 88,
   "id": "c704ef5c-e3a6-4a87-9402-2957109d86af",
   "metadata": {},
   "outputs": [
    {
     "name": "stdin",
     "output_type": "stream",
     "text": [
      " 24\n"
     ]
    },
    {
     "name": "stdout",
     "output_type": "stream",
     "text": [
      "Weird\n"
     ]
    }
   ],
   "source": [
    "n = int(input().strip())\n",
    "    \n",
    "if n%3==0 or (n%2==0 and n in listrange(6,21)):\n",
    "        print(\"Weird\")\n",
    "elif n%2==0 and (n in range(2,6) or (n>20)):\n",
    "        print(\"Not Weird\")\n"
   ]
  },
  {
   "cell_type": "code",
   "execution_count": 90,
   "id": "3a8477a5-3593-46c2-bee1-741f0259c029",
   "metadata": {},
   "outputs": [
    {
     "data": {
      "text/plain": [
       "[1, 2, 3, 4, 5]"
      ]
     },
     "execution_count": 90,
     "metadata": {},
     "output_type": "execute_result"
    }
   ],
   "source": [
    "list(range(1,6))"
   ]
  },
  {
   "cell_type": "code",
   "execution_count": null,
   "id": "4b011722-216c-457d-beb1-a7a8a4a1a067",
   "metadata": {},
   "outputs": [],
   "source": []
  }
 ],
 "metadata": {
  "kernelspec": {
   "display_name": "Python 3 (ipykernel)",
   "language": "python",
   "name": "python3"
  },
  "language_info": {
   "codemirror_mode": {
    "name": "ipython",
    "version": 3
   },
   "file_extension": ".py",
   "mimetype": "text/x-python",
   "name": "python",
   "nbconvert_exporter": "python",
   "pygments_lexer": "ipython3",
   "version": "3.11.7"
  }
 },
 "nbformat": 4,
 "nbformat_minor": 5
}
