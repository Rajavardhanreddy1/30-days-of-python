{
 "cells": [
  {
   "cell_type": "code",
   "execution_count": 4,
   "id": "97456233-f21c-43c5-a227-09860a014340",
   "metadata": {},
   "outputs": [
    {
     "name": "stdout",
     "output_type": "stream",
     "text": [
      "longest word: beautiful\n",
      "length : 9\n",
      "longest word: jumped\n",
      "length : 6\n"
     ]
    }
   ],
   "source": [
    "# Problem: Longest Word in a Sentence\n",
    "# 📝 Description:\n",
    "#Write a Python program that takes a sentence as input and returns the longest word along with its length.\n",
    "# 📥 Input:\n",
    "# A string (sentence), like:\n",
    "# \"The quick brown fox jumped over the lazy dog\"\n",
    "# 📤 Output:\n",
    "# The longest word and its length:\n",
    "# Longest word: jumped  \n",
    "# Length: 6\n",
    "# 🔑 Rules:\n",
    "# Words are separated by spaces.\n",
    "# Ignore punctuation like . , ? ! if any (you can remove it using str.replace() or regex).\n",
    "\n",
    "# If multiple words have the same max length, return the first one.\n",
    "# python\n",
    "# Copy\n",
    "# Edit\n",
    "# Input: \"Life is really beautiful\"\n",
    "# Output:\n",
    "# Longest word: beautiful  \n",
    "# Length: 9\n",
    "def longest_word(n):\n",
    "    a=n.split()\n",
    "    b=0\n",
    "    c=''\n",
    "    for i in a:\n",
    "        if len(i)>b:\n",
    "            b=len(i)\n",
    "            c=i\n",
    "        elif len(i)==b:\n",
    "            pass\n",
    "    print(f\"longest word: {c}\")\n",
    "    print(f\"length : {b}\")\n",
    "longest_word(\"Life is really beautiful\")\n",
    "longest_word(\"The quick brown fox jumped over the lazy dog\")"
   ]
  },
  {
   "cell_type": "code",
   "execution_count": 8,
   "id": "45e6786c-778f-4741-b087-c84db844421b",
   "metadata": {},
   "outputs": [
    {
     "name": "stdout",
     "output_type": "stream",
     "text": [
      "missing number is: 5\n"
     ]
    }
   ],
   "source": [
    "#  Problem: Find Missing Number in a Sequence\n",
    "# 📝 Description:\n",
    "# You are given a list of n numbers taken from the range 1 to n+1. One number is missing. Write a Python program to find the missing number.\n",
    "# 📥 Input Example:\n",
    "\n",
    "# numbers = [1, 2, 4, 6, 3, 7]\n",
    "# This list should have numbers from 1 to 7 (since length is 6 → n+1 = 7), but 5 is missing.\n",
    "# 📤 Output:\n",
    "# Missing number is: 5\n",
    "def missing_number(n):\n",
    "    for i in range(1,len(n)+1):\n",
    "        if i in n:\n",
    "            pass\n",
    "        else:\n",
    "            print(\"missing number is:\", i)\n",
    "missing_number([1, 2, 4, 6, 3, 7])\n",
    "        \n",
    "        \n",
    "            \n",
    "        \n",
    "        "
   ]
  },
  {
   "cell_type": "code",
   "execution_count": 13,
   "id": "13bd3dec-ac44-40bd-8861-d6e0eec89a85",
   "metadata": {},
   "outputs": [
    {
     "name": "stdout",
     "output_type": "stream",
     "text": [
      "w\n",
      "None\n"
     ]
    }
   ],
   "source": [
    "# Problem: Find First Non-Repeating Character\n",
    "# 📝 Description:\n",
    "# Given a string, find the first character that does not repeat anywhere in the string. If all characters repeat, return \"None\".\n",
    "# 📥 Input:\n",
    "# s = \"swiss\"\n",
    "# 📤 Output:\n",
    "# First non-repeating character: w\n",
    "# ✅ Another Example:\n",
    "\n",
    "# Input: \"aabbccdde\"\n",
    "# Output: First non-repeating character: e\n",
    "# Input: \"aabb\"\n",
    "# Output: None\n",
    "def non_repeating_character(n):\n",
    "    for i in n:\n",
    "        if n.count(i)==1:\n",
    "            print(i)\n",
    "            break\n",
    "    else:\n",
    "        print(\"None\")\n",
    "non_repeating_character(\"swiss\")\n",
    "non_repeating_character(\"aabb\")\n",
    "    \n",
    "    "
   ]
  }
 ],
 "metadata": {
  "kernelspec": {
   "display_name": "Python 3 (ipykernel)",
   "language": "python",
   "name": "python3"
  },
  "language_info": {
   "codemirror_mode": {
    "name": "ipython",
    "version": 3
   },
   "file_extension": ".py",
   "mimetype": "text/x-python",
   "name": "python",
   "nbconvert_exporter": "python",
   "pygments_lexer": "ipython3",
   "version": "3.11.7"
  }
 },
 "nbformat": 4,
 "nbformat_minor": 5
}
