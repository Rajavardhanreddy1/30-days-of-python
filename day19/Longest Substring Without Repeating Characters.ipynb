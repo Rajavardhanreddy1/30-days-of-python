{
 "cells": [
  {
   "cell_type": "code",
   "execution_count": 1,
   "id": "7bccdc80-c7a8-423f-a24f-160cbdc2eee1",
   "metadata": {},
   "outputs": [
    {
     "name": "stdout",
     "output_type": "stream",
     "text": [
      "3\n"
     ]
    }
   ],
   "source": [
    "# Problem: Longest Substring Without Repeating Characters\n",
    "# Problem Statement:\n",
    "\n",
    "# Given a string s, find the length of the longest substring without repeating characters.\n",
    "\n",
    "# Example:\n",
    "# python\n",
    "# Copy\n",
    "# Edit\n",
    "# Input: \"abcabcbb\"\n",
    "# Output: 3\n",
    "# Explanation: The answer is \"abc\", with the length of 3.\n",
    "# python\n",
    "# Copy\n",
    "# Edit\n",
    "# Input: \"bbbbb\"\n",
    "# Output: 1\n",
    "# Explanation: The answer is \"b\", with the length of 1.\n",
    "# python\n",
    "# Copy\n",
    "# Edit\n",
    "# Input: \"pwwkew\"\n",
    "# Output: 3\n",
    "# Explanation: The answer is \"wke\", with the length of 3.\n",
    "# 🔒 Constraints:\n",
    "# 0 <= len(s) <= 10^4\n",
    "\n",
    "# s consists of English letters, digits, symbols, and spaces.\n",
    "def length_of_longest_substring(s: str) -> int:\n",
    "    seen_chars = set()\n",
    "    left = 0\n",
    "    max_len = 0\n",
    "\n",
    "    for right in range(len(s)):\n",
    "        while s[right] in seen_chars:\n",
    "            seen_chars.remove(s[left])\n",
    "            left += 1\n",
    "        seen_chars.add(s[right])\n",
    "        max_len = max(max_len, right - left + 1)\n",
    "\n",
    "    return max_len\n",
    "print(length_of_longest_substring(\"abcabcbb\"))\n"
   ]
  },
  {
   "cell_type": "code",
   "execution_count": null,
   "id": "6cff819c-80af-40b8-8613-7255c370f7be",
   "metadata": {},
   "outputs": [],
   "source": []
  }
 ],
 "metadata": {
  "kernelspec": {
   "display_name": "Python 3 (ipykernel)",
   "language": "python",
   "name": "python3"
  },
  "language_info": {
   "codemirror_mode": {
    "name": "ipython",
    "version": 3
   },
   "file_extension": ".py",
   "mimetype": "text/x-python",
   "name": "python",
   "nbconvert_exporter": "python",
   "pygments_lexer": "ipython3",
   "version": "3.11.7"
  }
 },
 "nbformat": 4,
 "nbformat_minor": 5
}
