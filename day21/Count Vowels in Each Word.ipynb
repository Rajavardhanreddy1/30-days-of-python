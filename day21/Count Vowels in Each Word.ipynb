{
 "cells": [
  {
   "cell_type": "code",
   "execution_count": null,
   "id": "5e3f72f1-bf48-416b-ae91-510db4cba489",
   "metadata": {},
   "outputs": [],
   "source": [
    "# Problem: Count Vowels in Each Word\n",
    "# 📝 Description:\n",
    "# Given a sentence, count the number of vowels in each word and print the word along with its vowel count.\n",
    "# 📥 Example Input:\n",
    "# sentence = \"Python is powerful and easy to learn\"\n",
    "# 📤 Expected Output:\n",
    "# makefile\n",
    "# Copy\n",
    "# Edit\n",
    "# Python: 1  \n",
    "# is: 1  \n",
    "# powerful: 3  \n",
    "# and: 1  \n",
    "# easy: 2  \n",
    "# to: 1  \n",
    "# learn: 2\n",
    "def count_vowels(word):\n",
    "    vowels = \"aeiouAEIOU\"\n",
    "    count = 0\n",
    "    for char in word:\n",
    "        if char in vowels:\n",
    "            count += 1\n",
    "    return count\n",
    "\n",
    "def process_sentence(sentence):\n",
    "    words = sentence.split()\n",
    "    for word in words:\n",
    "        vowel_count = count_vowels(word)\n",
    "        print(f\"{word}: {vowel_count}\")\n",
    "\n",
    "sentence = \"Python is powerful and easy to learn\"\n",
    "process_sentence(sentence)\n"
   ]
  }
 ],
 "metadata": {
  "kernelspec": {
   "display_name": "Python 3 (ipykernel)",
   "language": "python",
   "name": "python3"
  },
  "language_info": {
   "codemirror_mode": {
    "name": "ipython",
    "version": 3
   },
   "file_extension": ".py",
   "mimetype": "text/x-python",
   "name": "python",
   "nbconvert_exporter": "python",
   "pygments_lexer": "ipython3",
   "version": "3.11.7"
  }
 },
 "nbformat": 4,
 "nbformat_minor": 5
}
