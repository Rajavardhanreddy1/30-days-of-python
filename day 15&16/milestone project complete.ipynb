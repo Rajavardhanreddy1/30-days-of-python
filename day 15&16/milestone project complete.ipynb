{
 "cells": [
  {
   "cell_type": "code",
   "execution_count": 1,
   "id": "e2b4d25e-a278-4a0b-95fd-b3e53a865656",
   "metadata": {},
   "outputs": [],
   "source": [
    "from IPython.display import clear_output\n",
    "def display(board):\n",
    "    clear_output()\n",
    "    print('   |   |')\n",
    "    print(' ' + board[7] + ' | ' + board[8] + ' | ' + board[9])\n",
    "    print('   |   |')\n",
    "    print('-----------')\n",
    "    print('   |   |')\n",
    "    print(' ' + board[4] + ' | ' + board[5] + ' | ' + board[6])\n",
    "    print('   |   |')\n",
    "    print('-----------')\n",
    "    print('   |   |')\n",
    "    print(' ' + board[1] + ' | ' + board[2] + ' | ' + board[3])\n",
    "    print('   |   |')\n",
    "    "
   ]
  },
  {
   "cell_type": "code",
   "execution_count": 4,
   "id": "b989f0f7-c25e-4fc6-a6cf-7b29bd497793",
   "metadata": {},
   "outputs": [],
   "source": [
    "def choose_marker():\n",
    "    mark=''\n",
    "    while not (mark=='x' or mark=='o'):\n",
    "        mark=input(\"enter marker 'x' or 'o' : \").lower()\n",
    "        \n",
    "    if mark=='x':\n",
    "        return ('x','o')\n",
    "    else:\n",
    "           \n",
    "        return ('o','x')\n",
    "        \n",
    "        \n",
    "                  "
   ]
  },
  {
   "cell_type": "code",
   "execution_count": 6,
   "id": "80169256-c137-499d-b56d-7040e7e78e28",
   "metadata": {},
   "outputs": [
    {
     "name": "stdout",
     "output_type": "stream",
     "text": [
      "enter marker 'x' or 'o' :  o\n"
     ]
    },
    {
     "data": {
      "text/plain": [
       "('o', 'x')"
      ]
     },
     "execution_count": 6,
     "metadata": {},
     "output_type": "execute_result"
    }
   ],
   "source": [
    "choose_marker()"
   ]
  },
  {
   "cell_type": "code",
   "execution_count": 7,
   "id": "ce256dd9-851f-47c3-a41f-6659a1db96f9",
   "metadata": {},
   "outputs": [],
   "source": [
    "def marker_assignment(board,position,mark):\n",
    "    board[position]=mark"
   ]
  },
  {
   "cell_type": "code",
   "execution_count": null,
   "id": "dbaa3294-45ba-4999-becc-0ac727cf04ee",
   "metadata": {},
   "outputs": [],
   "source": [
    "def win_check(board,mark):\n",
    "    \n",
    "    return ((board[7] == mark and board[8] == mark and board[9] == mark) or \n",
    "    (board[4] == mark and board[5] == mark and board[6] == mark) or \n",
    "    (board[1] == mark and board[2] == mark and board[3] == mark) or \n",
    "    (board[7] == mark and board[4] == mark and board[1] == mark) or \n",
    "    (board[8] == mark and board[5] == mark and board[2] == mark) or \n",
    "    (board[9] == mark and board[6] == mark and board[3] == mark) or \n",
    "    (board[7] == mark and board[5] == mark and board[3] == mark) or \n",
    "    (board[9] == mark and board[5] == mark and board[1] == mark)) "
   ]
  },
  {
   "cell_type": "code",
   "execution_count": 9,
   "id": "0e020a17-bfd0-4518-afbd-4b6a2b618dc3",
   "metadata": {},
   "outputs": [],
   "source": [
    "import random\n",
    "def first_play():\n",
    "\n",
    "   if random.randint(0,1)==0:\n",
    "       return 'player 1'\n",
    "   else:\n",
    "       return 'player 2'"
   ]
  },
  {
   "cell_type": "code",
   "execution_count": 10,
   "id": "ee7198a3-3c3b-43f6-879e-1e83be94c6bb",
   "metadata": {},
   "outputs": [],
   "source": [
    "def is_empty(board,position):\n",
    "    return board[position]==' '"
   ]
  },
  {
   "cell_type": "code",
   "execution_count": 11,
   "id": "f352521a-fadb-417f-8de0-fa1fbf6873e5",
   "metadata": {},
   "outputs": [],
   "source": [
    "def board_filled(board):\n",
    "    for position in range(1,10):\n",
    "        if is_empty(board,position):\n",
    "            return False\n",
    "    return True"
   ]
  },
  {
   "cell_type": "code",
   "execution_count": 12,
   "id": "7b333196-e85c-4f34-bad8-cd42730d9f06",
   "metadata": {},
   "outputs": [],
   "source": [
    "def users_input(board):\n",
    "    position=0\n",
    "    while position not in [1,2,3,4,5,6,7,8,9] or not is_empty(board, position):\n",
    "        position = int(input('Choose your next position: (1-9) '))\n",
    "        \n",
    "    return position"
   ]
  },
  {
   "cell_type": "code",
   "execution_count": 13,
   "id": "295a01b8-4a7c-4551-a371-24d6ed0dca3f",
   "metadata": {},
   "outputs": [],
   "source": [
    "def replay():\n",
    "    return input(\"enter yes if you want to play again else no\").lower().startswith(\"y\")"
   ]
  },
  {
   "cell_type": "code",
   "execution_count": 16,
   "id": "6ed80a79-e549-4af0-8893-f72740d3249a",
   "metadata": {},
   "outputs": [
    {
     "name": "stdout",
     "output_type": "stream",
     "text": [
      "   |   |\n",
      " o | x | x\n",
      "   |   |\n",
      "-----------\n",
      "   |   |\n",
      " o | x | o\n",
      "   |   |\n",
      "-----------\n",
      "   |   |\n",
      " x | o | x\n",
      "   |   |\n",
      "player 2 won the game\n"
     ]
    },
    {
     "name": "stdout",
     "output_type": "stream",
     "text": [
      "enter yes if you want to play again else no no\n"
     ]
    }
   ],
   "source": [
    "print(\"welcome to tic tak toe game\")\n",
    "while True:\n",
    "    the_board=[' ']*10\n",
    "    player1, player2=choose_marker()\n",
    "    turn=first_play()\n",
    "    a=input(\"are you ready to play yes or no:\").lower()\n",
    "    if a==\"yes\":\n",
    "        game_on=True\n",
    "    else:\n",
    "        game_on=False\n",
    "    while game_on:\n",
    "        \n",
    "        if turn== 'player 1':\n",
    "            display(the_board)\n",
    "            print(\"player1 turn\")\n",
    "            \n",
    "            a=users_input(the_board)\n",
    "            marker_assignment(the_board,a,player1)\n",
    "            if win_check(the_board,player1):\n",
    "                display(the_board)\n",
    "                print(\"player 1 won the game\")\n",
    "                game_on=False\n",
    "            else:\n",
    "                if board_filled(the_board):\n",
    "                    display(the_board)\n",
    "                    print(\"the game is draw\")\n",
    "                    break\n",
    "                else:\n",
    "                    turn='player 2'\n",
    "        if turn== 'player 2':\n",
    "            display(the_board)\n",
    "            print(\"player2 turn\")\n",
    "            \n",
    "            a=users_input(the_board)\n",
    "            marker_assignment(the_board,a,player2)\n",
    "            if win_check(the_board,player2):\n",
    "                display(the_board)\n",
    "                print(\"player 2 won the game\")\n",
    "                game_on=False\n",
    "            else:\n",
    "                if board_filled(the_board):\n",
    "                    display(the_board)\n",
    "                    print(\"the game is draw\")\n",
    "                    break\n",
    "                else:\n",
    "                    turn='player 1'\n",
    "    if not replay():\n",
    "        break\n",
    "            \n",
    "\n",
    "\n",
    "\n",
    "\n",
    "\n",
    "\n",
    "            \n",
    "            \n",
    "    \n",
    "    \n",
    "    "
   ]
  },
  {
   "cell_type": "code",
   "execution_count": null,
   "id": "297cb8cb-8e21-4f23-b261-a55a8e72abf4",
   "metadata": {},
   "outputs": [],
   "source": []
  }
 ],
 "metadata": {
  "kernelspec": {
   "display_name": "Python 3 (ipykernel)",
   "language": "python",
   "name": "python3"
  },
  "language_info": {
   "codemirror_mode": {
    "name": "ipython",
    "version": 3
   },
   "file_extension": ".py",
   "mimetype": "text/x-python",
   "name": "python",
   "nbconvert_exporter": "python",
   "pygments_lexer": "ipython3",
   "version": "3.11.7"
  }
 },
 "nbformat": 4,
 "nbformat_minor": 5
}
