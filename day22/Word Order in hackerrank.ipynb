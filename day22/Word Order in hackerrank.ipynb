{
 "cells": [
  {
   "cell_type": "code",
   "execution_count": null,
   "id": "e6f96f77-b8cb-4fbb-b5db-899f3a24ce9c",
   "metadata": {},
   "outputs": [],
   "source": [
    "integer=int(input())\n",
    "l1={}\n",
    "for  i in range(integer):\n",
    "    word=input()\n",
    "    if word not in l1:\n",
    "        l1[word]='1'\n",
    "    else:\n",
    "        l1[word]=str(int(l1[word])+1)\n",
    "print(len(l1))\n",
    "print(\" \".join(l1.values()))\n"
   ]
  }
 ],
 "metadata": {
  "kernelspec": {
   "display_name": "Python 3 (ipykernel)",
   "language": "python",
   "name": "python3"
  },
  "language_info": {
   "codemirror_mode": {
    "name": "ipython",
    "version": 3
   },
   "file_extension": ".py",
   "mimetype": "text/x-python",
   "name": "python",
   "nbconvert_exporter": "python",
   "pygments_lexer": "ipython3",
   "version": "3.11.7"
  }
 },
 "nbformat": 4,
 "nbformat_minor": 5
}
